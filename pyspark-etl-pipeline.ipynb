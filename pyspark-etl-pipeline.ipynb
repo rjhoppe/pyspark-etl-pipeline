{
 "cells": [
  {
   "cell_type": "code",
   "execution_count": null,
   "id": "0530e68e-17da-4405-915a-70f8e34dfcb2",
   "metadata": {},
   "outputs": [],
   "source": [
    "# Import Libraries\n",
    "\n",
    "from pyspark import SparkContent, SparkConf\n",
    "from pyspark import SparkSession, SQLContext\n",
    "import os\n",
    "import sys\n",
    "from pyspark.sql.functions import *"
   ]
  },
  {
   "cell_type": "code",
   "execution_count": null,
   "id": "9a43a94f-490e-438a-9c05-e427436390d3",
   "metadata": {},
   "outputs": [],
   "source": [
    "# Set Java Home & Vars\n",
    "\n",
    "os.environ[\"JAVA HOME\"] = \"C:\\Program Files\\Java\\jdk-18.0.2.1\""
   ]
  },
  {
   "cell_type": "code",
   "execution_count": null,
   "id": "cc3c2942-cc94-4500-87dd-ca5b7a37447a",
   "metadata": {},
   "outputs": [],
   "source": [
    "# Set Spark Config Details\n",
    "\n",
    "conf = SparkConf() \\\n",
    "    .setAppName(\"ETLPipeline\") \\\n",
    "    .setMaster(\"local\") \\\n",
    "    .set(\"spark.driver.extraClassPath\", \"G:/pyspark/*\")"
   ]
  },
  {
   "cell_type": "code",
   "execution_count": null,
   "id": "cced046b-9437-4e36-a58a-97b1175fab64",
   "metadata": {},
   "outputs": [],
   "source": [
    "# Initiate Spark Session\n",
    "\n",
    "sc = SparkContext.getOrCreate(conf=conf)\n",
    "etl = SparkSession(sc)"
   ]
  },
  {
   "cell_type": "code",
   "execution_count": null,
   "id": "81f71c68-8649-4205-bbd1-648b4138769f",
   "metadata": {},
   "outputs": [],
   "source": [
    "# Set DB details\n",
    "\n",
    "# Get password from env var\n",
    "pwd = os.environ[\"PGPASS\"]\n",
    "uid = os.environ[\"PGUID\"]\n",
    "\n",
    "# SQL DB details\n",
    "server = \"localhost\"\n",
    "src_db = \"AdventureWorksDW2019\"\n",
    "target_db = \"AdventureWorks\"\n",
    "src_driver = \"com.microsoft.sqlserver.jdbc.SQLServerDriver\"\n",
    "target_driver = \"org.postgresql.Driver\""
   ]
  },
  {
   "cell_type": "code",
   "execution_count": null,
   "id": "7ea1c15c-d0b8-44be-8cc8-ee39932e9b33",
   "metadata": {},
   "outputs": [],
   "source": [
    "# Source connection\n",
    "src_url = f\"jdbc:sqlserver://{server}:1433;databaseName={src_db};user={uid};password={pwd};\"\n",
    "# Target connection\n",
    "target_url = f\"jdbc:postgresql://{server}:5432/{target_db}?user={uid}&password={pwd}\""
   ]
  },
  {
   "cell_type": "code",
   "execution_count": null,
   "id": "f7a9c1d1-c25f-4a24-8985-82bb0e97ca77",
   "metadata": {},
   "outputs": [],
   "source": [
    "# SQL Statement and Test\n",
    "\n",
    "sql = \"\"\"select t.name as table_name from sys.tables t\n",
    "where t.name in ('DinProduct', 'DinProductSubcategory', 'DinProductCategory', 'DinSalesTerritory', 'FactInternetSales')\"\"\""
   ]
  },
  {
   "cell_type": "code",
   "execution_count": null,
   "id": "1094e529-f48a-4e3a-96fc-07bfbcdcd239",
   "metadata": {},
   "outputs": [],
   "source": [
    "# Test the connection\n",
    "dfs = etl.read. \\\n",
    "    format(\"jbdc\"). \\\n",
    "    options(driver=src_driver, user=uid, password=pwd, url=src_url, query=sql). \\\n",
    "    load()\n",
    "# Displays the df if connection is successful\n",
    "dfs.show()"
   ]
  },
  {
   "cell_type": "code",
   "execution_count": null,
   "id": "95fe2c28-57f5-41b3-98bf-e29cb258d745",
   "metadata": {},
   "outputs": [],
   "source": [
    "# Retrieve all values in the dataframe\n",
    "data_collect = dfs.collect()\n",
    "# Looping through each row of the dataframe\n",
    "for row in data_collect:\n",
    "    # Print table names to get table names for extract operation\n",
    "    print(row[\"table_name\"])"
   ]
  },
  {
   "cell_type": "code",
   "execution_count": null,
   "id": "fcd650e3-b296-40a4-bc20-0fbcda2b854a",
   "metadata": {},
   "outputs": [],
   "source": [
    "# Function to extract source system data\n",
    "def extract():\n",
    "    try:\n",
    "        dfs = etl.read. \\\n",
    "            format(\"jdbc\")\n",
    "            options(driver=src_driver, user=uid, password=pwd, url=src_url, query=sql). \\\n",
    "            load()\n",
    "        # Get table names\n",
    "        data_collect = dfs.collect()\n",
    "        # Looping througheach row of dataframe\n",
    "        for row in data_collect:\n",
    "            tbl_name = row[\"table_name\"]\n",
    "            df = etl.read \\\n",
    "            .format(\"jdbc\") \\\n",
    "            .option(\"driver\", src_driver) \\\n",
    "            .option(\"user\", uid) \\\n",
    "            .option(\"url\", src_url) \\\n",
    "            .option(\"dbtable\", f\"dbo.(tbl_name)\") \\\n",
    "            .load()\n",
    "            print(df.show(10))\n",
    "            # Load(df, tbl_name)\n",
    "            print(\"Data loaded successfully\")\n",
    "    except Exception as e:\n",
    "        print(\"Data extract error: \" + str(e))"
   ]
  },
  {
   "cell_type": "code",
   "execution_count": null,
   "id": "19598f04-3841-4f0b-9ca2-aaf5a82f8178",
   "metadata": {},
   "outputs": [],
   "source": [
    "# Function to persist data in target DB\n",
    "\n",
    "def load():\n",
    "    try:\n",
    "        rows_imported = 0\n",
    "        print(f\"Importing rows: {rows_imported} to {rows_imported + df_count()}... for tale {tbl}\")\n",
    "        df.write.mode(\"overwrite\") \\\n",
    "        .format(\"jdbc\") \\\n",
    "        .option(\"driver\", target_driver) \\\n",
    "        .option(\"user\", uid) \\\n",
    "        .option (\"password\", pwd) \\\n",
    "        .option(\"url\", target_url) \\\n",
    "        .option(\"dbtable\", \"src_\" + tbl) \\\n",
    "        .save()\n",
    "        print(\"Data imported successfully\")\n",
    "        rows_imported += df.count()\n",
    "    except Exception as e:\n",
    "        print(\"Data load error: \" + str(e))"
   ]
  },
  {
   "cell_type": "code",
   "execution_count": null,
   "id": "edd4850c-e580-4064-936f-aead8d970f76",
   "metadata": {},
   "outputs": [],
   "source": [
    "# Function call\n",
    "extract()"
   ]
  }
 ],
 "metadata": {
  "kernelspec": {
   "display_name": "Python 3 (ipykernel)",
   "language": "python",
   "name": "python3"
  },
  "language_info": {
   "codemirror_mode": {
    "name": "ipython",
    "version": 3
   },
   "file_extension": ".py",
   "mimetype": "text/x-python",
   "name": "python",
   "nbconvert_exporter": "python",
   "pygments_lexer": "ipython3",
   "version": "3.9.2"
  }
 },
 "nbformat": 4,
 "nbformat_minor": 5
}
